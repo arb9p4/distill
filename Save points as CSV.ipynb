{
 "cells": [
  {
   "cell_type": "code",
   "execution_count": 1,
   "id": "80295ffd",
   "metadata": {},
   "outputs": [],
   "source": [
    "import numpy as np\n",
    "import pandas as pd"
   ]
  },
  {
   "cell_type": "code",
   "execution_count": 12,
   "id": "0302cbda",
   "metadata": {},
   "outputs": [],
   "source": [
    "ptsA = np.load('n2a.npy')\n",
    "ptsB = np.load('n2b.npy')"
   ]
  },
  {
   "cell_type": "code",
   "execution_count": 13,
   "id": "10a93c23",
   "metadata": {},
   "outputs": [],
   "source": [
    "N = 400"
   ]
  },
  {
   "cell_type": "code",
   "execution_count": 14,
   "id": "dcd0da4c",
   "metadata": {},
   "outputs": [],
   "source": [
    "IA = np.random.permutation(ptsA.shape[0])[:N]\n",
    "IB = np.random.permutation(ptsB.shape[0])[:N]"
   ]
  },
  {
   "cell_type": "code",
   "execution_count": 15,
   "id": "7ca91d96",
   "metadata": {},
   "outputs": [],
   "source": [
    "ptsA = ptsA[IA,:]\n",
    "ptsB = ptsB[IB,:]"
   ]
  },
  {
   "cell_type": "code",
   "execution_count": 16,
   "id": "92260d9f",
   "metadata": {},
   "outputs": [],
   "source": [
    "df = pd.DataFrame(np.column_stack([ptsA, ptsB]), columns=['x1', 'y1', 'z1', 'x2', 'y2', 'z2'])"
   ]
  },
  {
   "cell_type": "code",
   "execution_count": 17,
   "id": "6837821b",
   "metadata": {
    "scrolled": true
   },
   "outputs": [
    {
     "data": {
      "text/html": [
       "<div>\n",
       "<style scoped>\n",
       "    .dataframe tbody tr th:only-of-type {\n",
       "        vertical-align: middle;\n",
       "    }\n",
       "\n",
       "    .dataframe tbody tr th {\n",
       "        vertical-align: top;\n",
       "    }\n",
       "\n",
       "    .dataframe thead th {\n",
       "        text-align: right;\n",
       "    }\n",
       "</style>\n",
       "<table border=\"1\" class=\"dataframe\">\n",
       "  <thead>\n",
       "    <tr style=\"text-align: right;\">\n",
       "      <th></th>\n",
       "      <th>x1</th>\n",
       "      <th>y1</th>\n",
       "      <th>z1</th>\n",
       "      <th>x2</th>\n",
       "      <th>y2</th>\n",
       "      <th>z2</th>\n",
       "    </tr>\n",
       "  </thead>\n",
       "  <tbody>\n",
       "    <tr>\n",
       "      <th>0</th>\n",
       "      <td>-928.716980</td>\n",
       "      <td>-1038.789795</td>\n",
       "      <td>23.493225</td>\n",
       "      <td>-930.284973</td>\n",
       "      <td>-1038.671997</td>\n",
       "      <td>23.745955</td>\n",
       "    </tr>\n",
       "    <tr>\n",
       "      <th>1</th>\n",
       "      <td>-928.732178</td>\n",
       "      <td>-1038.808838</td>\n",
       "      <td>24.252213</td>\n",
       "      <td>-930.387390</td>\n",
       "      <td>-1038.594238</td>\n",
       "      <td>22.469328</td>\n",
       "    </tr>\n",
       "    <tr>\n",
       "      <th>2</th>\n",
       "      <td>-928.784180</td>\n",
       "      <td>-1038.818726</td>\n",
       "      <td>21.417339</td>\n",
       "      <td>-929.874634</td>\n",
       "      <td>-1038.770508</td>\n",
       "      <td>21.326925</td>\n",
       "    </tr>\n",
       "    <tr>\n",
       "      <th>3</th>\n",
       "      <td>-928.764343</td>\n",
       "      <td>-1038.787964</td>\n",
       "      <td>23.587328</td>\n",
       "      <td>-930.230957</td>\n",
       "      <td>-1038.644409</td>\n",
       "      <td>23.603245</td>\n",
       "    </tr>\n",
       "    <tr>\n",
       "      <th>4</th>\n",
       "      <td>-928.687439</td>\n",
       "      <td>-1038.783936</td>\n",
       "      <td>22.728743</td>\n",
       "      <td>-929.351990</td>\n",
       "      <td>-1038.866943</td>\n",
       "      <td>23.392075</td>\n",
       "    </tr>\n",
       "    <tr>\n",
       "      <th>...</th>\n",
       "      <td>...</td>\n",
       "      <td>...</td>\n",
       "      <td>...</td>\n",
       "      <td>...</td>\n",
       "      <td>...</td>\n",
       "      <td>...</td>\n",
       "    </tr>\n",
       "    <tr>\n",
       "      <th>395</th>\n",
       "      <td>-928.694641</td>\n",
       "      <td>-1038.834106</td>\n",
       "      <td>22.390675</td>\n",
       "      <td>-929.967407</td>\n",
       "      <td>-1038.749268</td>\n",
       "      <td>23.140266</td>\n",
       "    </tr>\n",
       "    <tr>\n",
       "      <th>396</th>\n",
       "      <td>-928.703918</td>\n",
       "      <td>-1038.731812</td>\n",
       "      <td>24.272738</td>\n",
       "      <td>-929.341614</td>\n",
       "      <td>-1038.876343</td>\n",
       "      <td>22.588835</td>\n",
       "    </tr>\n",
       "    <tr>\n",
       "      <th>397</th>\n",
       "      <td>-928.768005</td>\n",
       "      <td>-1038.843994</td>\n",
       "      <td>23.371185</td>\n",
       "      <td>-929.628662</td>\n",
       "      <td>-1038.844482</td>\n",
       "      <td>22.897642</td>\n",
       "    </tr>\n",
       "    <tr>\n",
       "      <th>398</th>\n",
       "      <td>-928.458862</td>\n",
       "      <td>-1038.924683</td>\n",
       "      <td>24.066782</td>\n",
       "      <td>-930.010620</td>\n",
       "      <td>-1038.688110</td>\n",
       "      <td>23.150793</td>\n",
       "    </tr>\n",
       "    <tr>\n",
       "      <th>399</th>\n",
       "      <td>-928.710449</td>\n",
       "      <td>-1038.784180</td>\n",
       "      <td>21.531757</td>\n",
       "      <td>-930.618103</td>\n",
       "      <td>-1038.556519</td>\n",
       "      <td>23.526138</td>\n",
       "    </tr>\n",
       "  </tbody>\n",
       "</table>\n",
       "<p>400 rows × 6 columns</p>\n",
       "</div>"
      ],
      "text/plain": [
       "             x1           y1         z1          x2           y2         z2\n",
       "0   -928.716980 -1038.789795  23.493225 -930.284973 -1038.671997  23.745955\n",
       "1   -928.732178 -1038.808838  24.252213 -930.387390 -1038.594238  22.469328\n",
       "2   -928.784180 -1038.818726  21.417339 -929.874634 -1038.770508  21.326925\n",
       "3   -928.764343 -1038.787964  23.587328 -930.230957 -1038.644409  23.603245\n",
       "4   -928.687439 -1038.783936  22.728743 -929.351990 -1038.866943  23.392075\n",
       "..          ...          ...        ...         ...          ...        ...\n",
       "395 -928.694641 -1038.834106  22.390675 -929.967407 -1038.749268  23.140266\n",
       "396 -928.703918 -1038.731812  24.272738 -929.341614 -1038.876343  22.588835\n",
       "397 -928.768005 -1038.843994  23.371185 -929.628662 -1038.844482  22.897642\n",
       "398 -928.458862 -1038.924683  24.066782 -930.010620 -1038.688110  23.150793\n",
       "399 -928.710449 -1038.784180  21.531757 -930.618103 -1038.556519  23.526138\n",
       "\n",
       "[400 rows x 6 columns]"
      ]
     },
     "execution_count": 17,
     "metadata": {},
     "output_type": "execute_result"
    }
   ],
   "source": [
    "df"
   ]
  },
  {
   "cell_type": "code",
   "execution_count": 18,
   "id": "bb93dc1a",
   "metadata": {},
   "outputs": [],
   "source": [
    "df.to_csv('pts2.csv', index=False, header=['x1', 'y1', 'z1', 'x2', 'y2', 'z2'], float_format='%.3f')"
   ]
  },
  {
   "cell_type": "code",
   "execution_count": null,
   "id": "98fe7589",
   "metadata": {},
   "outputs": [],
   "source": []
  }
 ],
 "metadata": {
  "kernelspec": {
   "display_name": "Python 3.8.8 64-bit",
   "language": "python",
   "name": "python3"
  },
  "language_info": {
   "codemirror_mode": {
    "name": "ipython",
    "version": 3
   },
   "file_extension": ".py",
   "mimetype": "text/x-python",
   "name": "python",
   "nbconvert_exporter": "python",
   "pygments_lexer": "ipython3",
   "version": "3.8.8"
  },
  "vscode": {
   "interpreter": {
    "hash": "570feb405e2e27c949193ac68f46852414290d515b0ba6e5d90d076ed2284471"
   }
  }
 },
 "nbformat": 4,
 "nbformat_minor": 5
}
